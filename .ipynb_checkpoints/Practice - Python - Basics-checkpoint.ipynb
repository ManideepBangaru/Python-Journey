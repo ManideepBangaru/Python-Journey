{
 "cells": [
  {
   "cell_type": "markdown",
   "id": "b5f1c64b",
   "metadata": {},
   "source": [
    "## Data types"
   ]
  },
  {
   "cell_type": "code",
   "execution_count": 4,
   "id": "536c0520",
   "metadata": {},
   "outputs": [
    {
     "data": {
      "text/plain": [
       "12"
      ]
     },
     "execution_count": 4,
     "metadata": {},
     "output_type": "execute_result"
    }
   ],
   "source": [
    "12 # int"
   ]
  },
  {
   "cell_type": "code",
   "execution_count": 5,
   "id": "9477ec88",
   "metadata": {},
   "outputs": [
    {
     "data": {
      "text/plain": [
       "1.2"
      ]
     },
     "execution_count": 5,
     "metadata": {},
     "output_type": "execute_result"
    }
   ],
   "source": [
    "1.2 # FLOAT"
   ]
  },
  {
   "cell_type": "code",
   "execution_count": 6,
   "id": "0d0b517a",
   "metadata": {},
   "outputs": [
    {
     "data": {
      "text/plain": [
       "'manideep'"
      ]
     },
     "execution_count": 6,
     "metadata": {},
     "output_type": "execute_result"
    }
   ],
   "source": [
    "\"manideep\" # string"
   ]
  },
  {
   "cell_type": "code",
   "execution_count": 8,
   "id": "c4b4a943",
   "metadata": {},
   "outputs": [
    {
     "data": {
      "text/plain": [
       "True"
      ]
     },
     "execution_count": 8,
     "metadata": {},
     "output_type": "execute_result"
    }
   ],
   "source": [
    "True # Boolean"
   ]
  },
  {
   "cell_type": "markdown",
   "id": "34e5e00f",
   "metadata": {},
   "source": [
    "## Data structures"
   ]
  },
  {
   "cell_type": "code",
   "execution_count": 13,
   "id": "96c786b0",
   "metadata": {},
   "outputs": [
    {
     "data": {
      "text/plain": [
       "[0, 1, 2]"
      ]
     },
     "execution_count": 13,
     "metadata": {},
     "output_type": "execute_result"
    }
   ],
   "source": [
    "[0,1,2] # list"
   ]
  },
  {
   "cell_type": "code",
   "execution_count": 14,
   "id": "5b078068",
   "metadata": {},
   "outputs": [
    {
     "data": {
      "text/plain": [
       "{0, 1, 2}"
      ]
     },
     "execution_count": 14,
     "metadata": {},
     "output_type": "execute_result"
    }
   ],
   "source": [
    "{0,1,1,2} # set"
   ]
  },
  {
   "cell_type": "code",
   "execution_count": 16,
   "id": "ef705e74",
   "metadata": {},
   "outputs": [
    {
     "data": {
      "text/plain": [
       "(0, 1, 2)"
      ]
     },
     "execution_count": 16,
     "metadata": {},
     "output_type": "execute_result"
    }
   ],
   "source": [
    "(0,1,2) # tuple"
   ]
  },
  {
   "cell_type": "code",
   "execution_count": 18,
   "id": "2c32a612",
   "metadata": {},
   "outputs": [
    {
     "data": {
      "text/plain": [
       "{'Name': 'Manideep'}"
      ]
     },
     "execution_count": 18,
     "metadata": {},
     "output_type": "execute_result"
    }
   ],
   "source": [
    "{\"Name\":\"Manideep\"} # dictionary"
   ]
  },
  {
   "cell_type": "code",
   "execution_count": 20,
   "id": "bedb4915",
   "metadata": {},
   "outputs": [
    {
     "data": {
      "text/plain": [
       "{'Name': ['Manideep', 'Shravani']}"
      ]
     },
     "execution_count": 20,
     "metadata": {},
     "output_type": "execute_result"
    }
   ],
   "source": [
    "{\"Name\":[\"Manideep\",\"Shravani\"]}"
   ]
  },
  {
   "cell_type": "markdown",
   "id": "8615ce56",
   "metadata": {},
   "source": [
    "## Variable Declarations"
   ]
  },
  {
   "cell_type": "code",
   "execution_count": 21,
   "id": "b425297b",
   "metadata": {},
   "outputs": [
    {
     "ename": "SyntaxError",
     "evalue": "invalid decimal literal (4156412793.py, line 1)",
     "output_type": "error",
     "traceback": [
      "\u001b[0;36m  Input \u001b[0;32mIn [21]\u001b[0;36m\u001b[0m\n\u001b[0;31m    12xyz = \"Manideep\"\u001b[0m\n\u001b[0m     ^\u001b[0m\n\u001b[0;31mSyntaxError\u001b[0m\u001b[0;31m:\u001b[0m invalid decimal literal\n"
     ]
    }
   ],
   "source": [
    "12xyz = \"Manideep\""
   ]
  },
  {
   "cell_type": "code",
   "execution_count": 22,
   "id": "c3a7130d",
   "metadata": {},
   "outputs": [],
   "source": [
    "xyz12 = \"Manideep\""
   ]
  },
  {
   "cell_type": "code",
   "execution_count": 23,
   "id": "98d59a62",
   "metadata": {},
   "outputs": [],
   "source": [
    "_12xyz = \"Manideep\""
   ]
  },
  {
   "cell_type": "markdown",
   "id": "83ba70d7",
   "metadata": {},
   "source": [
    "## Mathematical operations"
   ]
  },
  {
   "cell_type": "code",
   "execution_count": 24,
   "id": "b1fee4a2",
   "metadata": {},
   "outputs": [
    {
     "data": {
      "text/plain": [
       "3"
      ]
     },
     "execution_count": 24,
     "metadata": {},
     "output_type": "execute_result"
    }
   ],
   "source": [
    "1 + 2"
   ]
  },
  {
   "cell_type": "code",
   "execution_count": 25,
   "id": "a8d04242",
   "metadata": {},
   "outputs": [
    {
     "data": {
      "text/plain": [
       "1"
      ]
     },
     "execution_count": 25,
     "metadata": {},
     "output_type": "execute_result"
    }
   ],
   "source": [
    "2 - 1"
   ]
  },
  {
   "cell_type": "code",
   "execution_count": 26,
   "id": "57325ab5",
   "metadata": {},
   "outputs": [
    {
     "data": {
      "text/plain": [
       "6"
      ]
     },
     "execution_count": 26,
     "metadata": {},
     "output_type": "execute_result"
    }
   ],
   "source": [
    "2 * 3"
   ]
  },
  {
   "cell_type": "code",
   "execution_count": 28,
   "id": "8d281550",
   "metadata": {},
   "outputs": [
    {
     "data": {
      "text/plain": [
       "2.0"
      ]
     },
     "execution_count": 28,
     "metadata": {},
     "output_type": "execute_result"
    }
   ],
   "source": [
    "6 / 3"
   ]
  },
  {
   "cell_type": "code",
   "execution_count": 32,
   "id": "31156c2c",
   "metadata": {},
   "outputs": [
    {
     "data": {
      "text/plain": [
       "5"
      ]
     },
     "execution_count": 32,
     "metadata": {},
     "output_type": "execute_result"
    }
   ],
   "source": [
    "16 // 3"
   ]
  },
  {
   "cell_type": "code",
   "execution_count": 30,
   "id": "51943f97",
   "metadata": {},
   "outputs": [
    {
     "data": {
      "text/plain": [
       "0"
      ]
     },
     "execution_count": 30,
     "metadata": {},
     "output_type": "execute_result"
    }
   ],
   "source": [
    "6 % 3"
   ]
  },
  {
   "cell_type": "code",
   "execution_count": 35,
   "id": "9f95a3f7",
   "metadata": {},
   "outputs": [
    {
     "data": {
      "text/plain": [
       "8"
      ]
     },
     "execution_count": 35,
     "metadata": {},
     "output_type": "execute_result"
    }
   ],
   "source": [
    "2 ** 3"
   ]
  },
  {
   "cell_type": "markdown",
   "id": "c6fffcf7",
   "metadata": {},
   "source": [
    "## String operations"
   ]
  },
  {
   "cell_type": "code",
   "execution_count": 52,
   "id": "118a2d14",
   "metadata": {},
   "outputs": [],
   "source": [
    "name = \"Manideep\""
   ]
  },
  {
   "cell_type": "code",
   "execution_count": 53,
   "id": "8d02abe6",
   "metadata": {},
   "outputs": [
    {
     "data": {
      "text/plain": [
       "'manideep'"
      ]
     },
     "execution_count": 53,
     "metadata": {},
     "output_type": "execute_result"
    }
   ],
   "source": [
    "name.lower()"
   ]
  },
  {
   "cell_type": "code",
   "execution_count": 54,
   "id": "e25f284a",
   "metadata": {},
   "outputs": [
    {
     "data": {
      "text/plain": [
       "'MANIDEEP'"
      ]
     },
     "execution_count": 54,
     "metadata": {},
     "output_type": "execute_result"
    }
   ],
   "source": [
    "name.upper()"
   ]
  },
  {
   "cell_type": "code",
   "execution_count": 56,
   "id": "5604e2dc",
   "metadata": {},
   "outputs": [
    {
     "data": {
      "text/plain": [
       "'Manid$$p'"
      ]
     },
     "execution_count": 56,
     "metadata": {},
     "output_type": "execute_result"
    }
   ],
   "source": [
    "name.lower().capitalize().replace(\"e\",\"$\")"
   ]
  },
  {
   "cell_type": "code",
   "execution_count": 67,
   "id": "e35d4411",
   "metadata": {},
   "outputs": [
    {
     "data": {
      "text/plain": [
       "'Mani'"
      ]
     },
     "execution_count": 67,
     "metadata": {},
     "output_type": "execute_result"
    }
   ],
   "source": [
    "name[:4]"
   ]
  },
  {
   "cell_type": "markdown",
   "id": "8c4932ee",
   "metadata": {},
   "source": [
    "## Boolean Operations"
   ]
  },
  {
   "cell_type": "code",
   "execution_count": 68,
   "id": "3943543d",
   "metadata": {},
   "outputs": [
    {
     "data": {
      "text/plain": [
       "True"
      ]
     },
     "execution_count": 68,
     "metadata": {},
     "output_type": "execute_result"
    }
   ],
   "source": [
    "True"
   ]
  },
  {
   "cell_type": "code",
   "execution_count": 69,
   "id": "60cd19c0",
   "metadata": {},
   "outputs": [
    {
     "data": {
      "text/plain": [
       "2"
      ]
     },
     "execution_count": 69,
     "metadata": {},
     "output_type": "execute_result"
    }
   ],
   "source": [
    "True + 1"
   ]
  },
  {
   "cell_type": "code",
   "execution_count": 71,
   "id": "c6266ed9",
   "metadata": {},
   "outputs": [
    {
     "data": {
      "text/plain": [
       "True"
      ]
     },
     "execution_count": 71,
     "metadata": {},
     "output_type": "execute_result"
    }
   ],
   "source": [
    "sum([True, True, False]) >= 1"
   ]
  },
  {
   "cell_type": "markdown",
   "id": "1399ec87",
   "metadata": {},
   "source": [
    "## print statement"
   ]
  },
  {
   "cell_type": "code",
   "execution_count": 72,
   "id": "d1df172b",
   "metadata": {},
   "outputs": [
    {
     "name": "stdout",
     "output_type": "stream",
     "text": [
      "Hello World !!!\n"
     ]
    }
   ],
   "source": [
    "print(\"Hello World !!!\")"
   ]
  },
  {
   "cell_type": "markdown",
   "id": "73201515",
   "metadata": {},
   "source": [
    "## input statement"
   ]
  },
  {
   "cell_type": "code",
   "execution_count": 74,
   "id": "e2ee5fd5",
   "metadata": {},
   "outputs": [
    {
     "name": "stdout",
     "output_type": "stream",
     "text": [
      "what is your name : Manideep\n"
     ]
    }
   ],
   "source": [
    "Name = input(\"what is your name : \")"
   ]
  },
  {
   "cell_type": "code",
   "execution_count": 75,
   "id": "87399d5b",
   "metadata": {},
   "outputs": [
    {
     "data": {
      "text/plain": [
       "'Manideep'"
      ]
     },
     "execution_count": 75,
     "metadata": {},
     "output_type": "execute_result"
    }
   ],
   "source": [
    "Name"
   ]
  },
  {
   "cell_type": "code",
   "execution_count": 76,
   "id": "04c0fd5b",
   "metadata": {},
   "outputs": [
    {
     "name": "stdout",
     "output_type": "stream",
     "text": [
      "Enter your Email id please : bmd994@gmail.com\n"
     ]
    }
   ],
   "source": [
    "mailId = input(\"Enter your Email id please : \")"
   ]
  },
  {
   "cell_type": "markdown",
   "id": "08e1e9e9",
   "metadata": {},
   "source": [
    "## Logical statements"
   ]
  },
  {
   "cell_type": "code",
   "execution_count": 77,
   "id": "8918b7d0",
   "metadata": {},
   "outputs": [],
   "source": [
    "# if else\n",
    "# if elif else"
   ]
  },
  {
   "cell_type": "code",
   "execution_count": 87,
   "id": "930c3192",
   "metadata": {},
   "outputs": [],
   "source": [
    "users = [\"bmd994@gmail.com\",\"statmonk@gmail.com\"]\n",
    "oldUsers = [\"sgmb2251@gmail.com\"]"
   ]
  },
  {
   "cell_type": "code",
   "execution_count": 88,
   "id": "683f0a57",
   "metadata": {},
   "outputs": [
    {
     "name": "stdout",
     "output_type": "stream",
     "text": [
      "Enter your mail id : sgmb2251@gmail.com\n"
     ]
    }
   ],
   "source": [
    "userEmail = input(\"Enter your mail id : \")"
   ]
  },
  {
   "cell_type": "code",
   "execution_count": 92,
   "id": "895ebaca",
   "metadata": {},
   "outputs": [
    {
     "name": "stdout",
     "output_type": "stream",
     "text": [
      "user not found, please register\n"
     ]
    }
   ],
   "source": [
    "# if else\n",
    "\n",
    "if userEmail in users:\n",
    "    print(\"user is Authorized !!!\")\n",
    "    # user will be allowed into application\n",
    "else:\n",
    "    print(\"user not found, please register\")\n",
    "    # user will be directed to registration page"
   ]
  },
  {
   "cell_type": "code",
   "execution_count": 91,
   "id": "311d17f9",
   "metadata": {},
   "outputs": [
    {
     "name": "stdout",
     "output_type": "stream",
     "text": [
      "old user, he is Authorized !!!\n"
     ]
    }
   ],
   "source": [
    "# if elif else\n",
    "\n",
    "if userEmail in users:\n",
    "    print(\"user is Authorized !!!\")\n",
    "    # user will be allowed into application\n",
    "elif userEmail in oldUsers:\n",
    "    print(\"old user, he is Authorized !!!\")\n",
    "else:\n",
    "    print(\"user not found, please register\")\n",
    "    # user will be directed to registration page"
   ]
  },
  {
   "cell_type": "markdown",
   "id": "9a8a540d",
   "metadata": {},
   "source": [
    "## And, or operators"
   ]
  },
  {
   "cell_type": "code",
   "execution_count": 93,
   "id": "aea11d82",
   "metadata": {},
   "outputs": [
    {
     "data": {
      "text/plain": [
       "True"
      ]
     },
     "execution_count": 93,
     "metadata": {},
     "output_type": "execute_result"
    }
   ],
   "source": [
    "True and True"
   ]
  },
  {
   "cell_type": "code",
   "execution_count": 94,
   "id": "bbdebac7",
   "metadata": {},
   "outputs": [
    {
     "data": {
      "text/plain": [
       "False"
      ]
     },
     "execution_count": 94,
     "metadata": {},
     "output_type": "execute_result"
    }
   ],
   "source": [
    "True and False"
   ]
  },
  {
   "cell_type": "code",
   "execution_count": 95,
   "id": "7e8b50ff",
   "metadata": {},
   "outputs": [
    {
     "name": "stdout",
     "output_type": "stream",
     "text": [
      "user is Authorized !!!\n"
     ]
    }
   ],
   "source": [
    "if userEmail in users or userEmail in oldUsers:\n",
    "    print(\"user is Authorized !!!\")\n",
    "    # user will be allowed into application\n",
    "else:\n",
    "    print(\"user not found, please register\")\n",
    "    # user will be directed to registration page"
   ]
  },
  {
   "cell_type": "markdown",
   "id": "d9e4b3b3",
   "metadata": {},
   "source": [
    "## Loops"
   ]
  },
  {
   "cell_type": "code",
   "execution_count": 96,
   "id": "4c127cf4",
   "metadata": {},
   "outputs": [],
   "source": [
    "# for\n",
    "# while"
   ]
  },
  {
   "cell_type": "code",
   "execution_count": 104,
   "id": "296398fa",
   "metadata": {},
   "outputs": [
    {
     "name": "stdout",
     "output_type": "stream",
     "text": [
      "0\n",
      "1\n",
      "2\n",
      "3\n",
      "4\n",
      "5\n",
      "6\n",
      "7\n",
      "8\n",
      "9\n",
      "10\n",
      "12\n",
      "14\n",
      "16\n",
      "18\n"
     ]
    }
   ],
   "source": [
    "# for\n",
    "\n",
    "for i in range(10):\n",
    "    print(i)\n",
    "\n",
    "for i in range(10,20,2):\n",
    "    print(i)"
   ]
  },
  {
   "cell_type": "code",
   "execution_count": 111,
   "id": "31491847",
   "metadata": {},
   "outputs": [
    {
     "name": "stdout",
     "output_type": "stream",
     "text": [
      "Hello\n",
      "Hello\n",
      "Hello\n",
      "Hello\n",
      "Hello\n"
     ]
    }
   ],
   "source": [
    "# while\n",
    "switch = 1\n",
    "counter = 0\n",
    "while switch == 1:\n",
    "    if counter < 5:\n",
    "        print(\"Hello\")\n",
    "        counter = counter + 1\n",
    "    else:\n",
    "        switch = 0"
   ]
  },
  {
   "cell_type": "code",
   "execution_count": 118,
   "id": "8e134d73",
   "metadata": {},
   "outputs": [
    {
     "name": "stdout",
     "output_type": "stream",
     "text": [
      "0\n",
      "2\n",
      "4\n",
      "5\n",
      "6\n",
      "8\n",
      "10\n",
      "12\n",
      "14\n",
      "15\n",
      "16\n",
      "18\n"
     ]
    }
   ],
   "source": [
    "# for with if\n",
    "\n",
    "for i in range(20):\n",
    "    if i%2 == 0:\n",
    "        print(i)\n",
    "    elif i%5 == 0:\n",
    "        print(i)"
   ]
  },
  {
   "cell_type": "code",
   "execution_count": null,
   "id": "c23f919e",
   "metadata": {},
   "outputs": [],
   "source": []
  }
 ],
 "metadata": {
  "kernelspec": {
   "display_name": "Python 3 (ipykernel)",
   "language": "python",
   "name": "python3"
  },
  "language_info": {
   "codemirror_mode": {
    "name": "ipython",
    "version": 3
   },
   "file_extension": ".py",
   "mimetype": "text/x-python",
   "name": "python",
   "nbconvert_exporter": "python",
   "pygments_lexer": "ipython3",
   "version": "3.10.4"
  }
 },
 "nbformat": 4,
 "nbformat_minor": 5
}
