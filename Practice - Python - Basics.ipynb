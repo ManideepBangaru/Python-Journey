{
 "cells": [
  {
   "cell_type": "markdown",
   "id": "76be6d37",
   "metadata": {},
   "source": [
    "## Data types"
   ]
  },
  {
   "cell_type": "code",
   "execution_count": 4,
   "id": "5560e5f0",
   "metadata": {},
   "outputs": [
    {
     "data": {
      "text/plain": [
       "12"
      ]
     },
     "execution_count": 4,
     "metadata": {},
     "output_type": "execute_result"
    }
   ],
   "source": [
    "12 # int"
   ]
  },
  {
   "cell_type": "code",
   "execution_count": 5,
   "id": "0fb1d29a",
   "metadata": {},
   "outputs": [
    {
     "data": {
      "text/plain": [
       "1.2"
      ]
     },
     "execution_count": 5,
     "metadata": {},
     "output_type": "execute_result"
    }
   ],
   "source": [
    "1.2 # FLOAT"
   ]
  },
  {
   "cell_type": "code",
   "execution_count": 6,
   "id": "3d3a2447",
   "metadata": {},
   "outputs": [
    {
     "data": {
      "text/plain": [
       "'manideep'"
      ]
     },
     "execution_count": 6,
     "metadata": {},
     "output_type": "execute_result"
    }
   ],
   "source": [
    "\"manideep\" # string"
   ]
  },
  {
   "cell_type": "code",
   "execution_count": 8,
   "id": "30bb5e59",
   "metadata": {},
   "outputs": [
    {
     "data": {
      "text/plain": [
       "True"
      ]
     },
     "execution_count": 8,
     "metadata": {},
     "output_type": "execute_result"
    }
   ],
   "source": [
    "True # Boolean"
   ]
  },
  {
   "cell_type": "markdown",
   "id": "0d77d21e",
   "metadata": {},
   "source": [
    "## Data structures"
   ]
  },
  {
   "cell_type": "code",
   "execution_count": 13,
   "id": "84b8639c",
   "metadata": {},
   "outputs": [
    {
     "data": {
      "text/plain": [
       "[0, 1, 2]"
      ]
     },
     "execution_count": 13,
     "metadata": {},
     "output_type": "execute_result"
    }
   ],
   "source": [
    "[0,1,2] # list"
   ]
  },
  {
   "cell_type": "code",
   "execution_count": 14,
   "id": "f7c2405f",
   "metadata": {},
   "outputs": [
    {
     "data": {
      "text/plain": [
       "{0, 1, 2}"
      ]
     },
     "execution_count": 14,
     "metadata": {},
     "output_type": "execute_result"
    }
   ],
   "source": [
    "{0,1,1,2} # set"
   ]
  },
  {
   "cell_type": "code",
   "execution_count": 16,
   "id": "2304cd44",
   "metadata": {},
   "outputs": [
    {
     "data": {
      "text/plain": [
       "(0, 1, 2)"
      ]
     },
     "execution_count": 16,
     "metadata": {},
     "output_type": "execute_result"
    }
   ],
   "source": [
    "(0,1,2) # tuple"
   ]
  },
  {
   "cell_type": "code",
   "execution_count": 18,
   "id": "633fd4d6",
   "metadata": {},
   "outputs": [
    {
     "data": {
      "text/plain": [
       "{'Name': 'Manideep'}"
      ]
     },
     "execution_count": 18,
     "metadata": {},
     "output_type": "execute_result"
    }
   ],
   "source": [
    "{\"Name\":\"Manideep\"} # dictionary"
   ]
  },
  {
   "cell_type": "code",
   "execution_count": 20,
   "id": "aa51cd5a",
   "metadata": {},
   "outputs": [
    {
     "data": {
      "text/plain": [
       "{'Name': ['Manideep', 'Shravani']}"
      ]
     },
     "execution_count": 20,
     "metadata": {},
     "output_type": "execute_result"
    }
   ],
   "source": [
    "{\"Name\":[\"Manideep\",\"Shravani\"]}"
   ]
  },
  {
   "cell_type": "markdown",
   "id": "64b573c9",
   "metadata": {},
   "source": [
    "## Variable Declarations"
   ]
  },
  {
   "cell_type": "code",
   "execution_count": 21,
   "id": "4c42749e",
   "metadata": {},
   "outputs": [
    {
     "ename": "SyntaxError",
     "evalue": "invalid decimal literal (4156412793.py, line 1)",
     "output_type": "error",
     "traceback": [
      "\u001b[0;36m  Input \u001b[0;32mIn [21]\u001b[0;36m\u001b[0m\n\u001b[0;31m    12xyz = \"Manideep\"\u001b[0m\n\u001b[0m     ^\u001b[0m\n\u001b[0;31mSyntaxError\u001b[0m\u001b[0;31m:\u001b[0m invalid decimal literal\n"
     ]
    }
   ],
   "source": [
    "12xyz = \"Manideep\""
   ]
  },
  {
   "cell_type": "code",
   "execution_count": 22,
   "id": "080205e2",
   "metadata": {},
   "outputs": [],
   "source": [
    "xyz12 = \"Manideep\""
   ]
  },
  {
   "cell_type": "code",
   "execution_count": 23,
   "id": "97253851",
   "metadata": {},
   "outputs": [],
   "source": [
    "_12xyz = \"Manideep\""
   ]
  },
  {
   "cell_type": "markdown",
   "id": "5b64ca6e",
   "metadata": {},
   "source": [
    "## Mathematical operations"
   ]
  },
  {
   "cell_type": "code",
   "execution_count": 24,
   "id": "a8dff927",
   "metadata": {},
   "outputs": [
    {
     "data": {
      "text/plain": [
       "3"
      ]
     },
     "execution_count": 24,
     "metadata": {},
     "output_type": "execute_result"
    }
   ],
   "source": [
    "1 + 2"
   ]
  },
  {
   "cell_type": "code",
   "execution_count": 25,
   "id": "aeb2d2c4",
   "metadata": {},
   "outputs": [
    {
     "data": {
      "text/plain": [
       "1"
      ]
     },
     "execution_count": 25,
     "metadata": {},
     "output_type": "execute_result"
    }
   ],
   "source": [
    "2 - 1"
   ]
  },
  {
   "cell_type": "code",
   "execution_count": 26,
   "id": "d89593bc",
   "metadata": {},
   "outputs": [
    {
     "data": {
      "text/plain": [
       "6"
      ]
     },
     "execution_count": 26,
     "metadata": {},
     "output_type": "execute_result"
    }
   ],
   "source": [
    "2 * 3"
   ]
  },
  {
   "cell_type": "code",
   "execution_count": 28,
   "id": "df739ed3",
   "metadata": {},
   "outputs": [
    {
     "data": {
      "text/plain": [
       "2.0"
      ]
     },
     "execution_count": 28,
     "metadata": {},
     "output_type": "execute_result"
    }
   ],
   "source": [
    "6 / 3"
   ]
  },
  {
   "cell_type": "code",
   "execution_count": 32,
   "id": "277bee6c",
   "metadata": {},
   "outputs": [
    {
     "data": {
      "text/plain": [
       "5"
      ]
     },
     "execution_count": 32,
     "metadata": {},
     "output_type": "execute_result"
    }
   ],
   "source": [
    "16 // 3"
   ]
  },
  {
   "cell_type": "code",
   "execution_count": 30,
   "id": "34241f41",
   "metadata": {},
   "outputs": [
    {
     "data": {
      "text/plain": [
       "0"
      ]
     },
     "execution_count": 30,
     "metadata": {},
     "output_type": "execute_result"
    }
   ],
   "source": [
    "6 % 3"
   ]
  },
  {
   "cell_type": "code",
   "execution_count": 35,
   "id": "61d399f1",
   "metadata": {},
   "outputs": [
    {
     "data": {
      "text/plain": [
       "8"
      ]
     },
     "execution_count": 35,
     "metadata": {},
     "output_type": "execute_result"
    }
   ],
   "source": [
    "2 ** 3"
   ]
  },
  {
   "cell_type": "markdown",
   "id": "108eb3c9",
   "metadata": {},
   "source": [
    "## String operations"
   ]
  },
  {
   "cell_type": "code",
   "execution_count": 52,
   "id": "146298c1",
   "metadata": {},
   "outputs": [],
   "source": [
    "name = \"Manideep\""
   ]
  },
  {
   "cell_type": "code",
   "execution_count": 53,
   "id": "e2930a2e",
   "metadata": {},
   "outputs": [
    {
     "data": {
      "text/plain": [
       "'manideep'"
      ]
     },
     "execution_count": 53,
     "metadata": {},
     "output_type": "execute_result"
    }
   ],
   "source": [
    "name.lower()"
   ]
  },
  {
   "cell_type": "code",
   "execution_count": 54,
   "id": "abe7d068",
   "metadata": {},
   "outputs": [
    {
     "data": {
      "text/plain": [
       "'MANIDEEP'"
      ]
     },
     "execution_count": 54,
     "metadata": {},
     "output_type": "execute_result"
    }
   ],
   "source": [
    "name.upper()"
   ]
  },
  {
   "cell_type": "code",
   "execution_count": 56,
   "id": "ecbfa160",
   "metadata": {},
   "outputs": [
    {
     "data": {
      "text/plain": [
       "'Manid$$p'"
      ]
     },
     "execution_count": 56,
     "metadata": {},
     "output_type": "execute_result"
    }
   ],
   "source": [
    "name.lower().capitalize().replace(\"e\",\"$\")"
   ]
  },
  {
   "cell_type": "code",
   "execution_count": 67,
   "id": "4fa3ccb0",
   "metadata": {},
   "outputs": [
    {
     "data": {
      "text/plain": [
       "'Mani'"
      ]
     },
     "execution_count": 67,
     "metadata": {},
     "output_type": "execute_result"
    }
   ],
   "source": [
    "name[:4]"
   ]
  },
  {
   "cell_type": "markdown",
   "id": "bd85cc41",
   "metadata": {},
   "source": [
    "## Boolean Operations"
   ]
  },
  {
   "cell_type": "code",
   "execution_count": 68,
   "id": "350225a2",
   "metadata": {},
   "outputs": [
    {
     "data": {
      "text/plain": [
       "True"
      ]
     },
     "execution_count": 68,
     "metadata": {},
     "output_type": "execute_result"
    }
   ],
   "source": [
    "True"
   ]
  },
  {
   "cell_type": "code",
   "execution_count": 69,
   "id": "379a25f1",
   "metadata": {},
   "outputs": [
    {
     "data": {
      "text/plain": [
       "2"
      ]
     },
     "execution_count": 69,
     "metadata": {},
     "output_type": "execute_result"
    }
   ],
   "source": [
    "True + 1"
   ]
  },
  {
   "cell_type": "code",
   "execution_count": 71,
   "id": "8ee2edfe",
   "metadata": {},
   "outputs": [
    {
     "data": {
      "text/plain": [
       "True"
      ]
     },
     "execution_count": 71,
     "metadata": {},
     "output_type": "execute_result"
    }
   ],
   "source": [
    "sum([True, True, False]) >= 1"
   ]
  },
  {
   "cell_type": "markdown",
   "id": "82e5282b",
   "metadata": {},
   "source": [
    "## print statement"
   ]
  },
  {
   "cell_type": "code",
   "execution_count": 72,
   "id": "aa1cf17e",
   "metadata": {},
   "outputs": [
    {
     "name": "stdout",
     "output_type": "stream",
     "text": [
      "Hello World !!!\n"
     ]
    }
   ],
   "source": [
    "print(\"Hello World !!!\")"
   ]
  },
  {
   "cell_type": "markdown",
   "id": "2e2e16b4",
   "metadata": {},
   "source": [
    "## input statement"
   ]
  },
  {
   "cell_type": "code",
   "execution_count": 74,
   "id": "edd8062e",
   "metadata": {},
   "outputs": [
    {
     "name": "stdout",
     "output_type": "stream",
     "text": [
      "what is your name : Manideep\n"
     ]
    }
   ],
   "source": [
    "Name = input(\"what is your name : \")"
   ]
  },
  {
   "cell_type": "code",
   "execution_count": 75,
   "id": "0e8aca00",
   "metadata": {},
   "outputs": [
    {
     "data": {
      "text/plain": [
       "'Manideep'"
      ]
     },
     "execution_count": 75,
     "metadata": {},
     "output_type": "execute_result"
    }
   ],
   "source": [
    "Name"
   ]
  },
  {
   "cell_type": "code",
   "execution_count": 76,
   "id": "fba0fee8",
   "metadata": {},
   "outputs": [
    {
     "name": "stdout",
     "output_type": "stream",
     "text": [
      "Enter your Email id please : bmd994@gmail.com\n"
     ]
    }
   ],
   "source": [
    "mailId = input(\"Enter your Email id please : \")"
   ]
  },
  {
   "cell_type": "markdown",
   "id": "4fdac649",
   "metadata": {},
   "source": [
    "## Logical statements"
   ]
  },
  {
   "cell_type": "code",
   "execution_count": 77,
   "id": "b23a2fce",
   "metadata": {},
   "outputs": [],
   "source": [
    "# if else\n",
    "# if elif else"
   ]
  },
  {
   "cell_type": "code",
   "execution_count": 87,
   "id": "cd3cc98d",
   "metadata": {},
   "outputs": [],
   "source": [
    "users = [\"bmd994@gmail.com\",\"statmonk@gmail.com\"]\n",
    "oldUsers = [\"sgmb2251@gmail.com\"]"
   ]
  },
  {
   "cell_type": "code",
   "execution_count": 88,
   "id": "02733903",
   "metadata": {},
   "outputs": [
    {
     "name": "stdout",
     "output_type": "stream",
     "text": [
      "Enter your mail id : sgmb2251@gmail.com\n"
     ]
    }
   ],
   "source": [
    "userEmail = input(\"Enter your mail id : \")"
   ]
  },
  {
   "cell_type": "code",
   "execution_count": 92,
   "id": "aedc5b1f",
   "metadata": {},
   "outputs": [
    {
     "name": "stdout",
     "output_type": "stream",
     "text": [
      "user not found, please register\n"
     ]
    }
   ],
   "source": [
    "# if else\n",
    "\n",
    "if userEmail in users:\n",
    "    print(\"user is Authorized !!!\")\n",
    "    # user will be allowed into application\n",
    "else:\n",
    "    print(\"user not found, please register\")\n",
    "    # user will be directed to registration page"
   ]
  },
  {
   "cell_type": "code",
   "execution_count": 91,
   "id": "ad20bad4",
   "metadata": {},
   "outputs": [
    {
     "name": "stdout",
     "output_type": "stream",
     "text": [
      "old user, he is Authorized !!!\n"
     ]
    }
   ],
   "source": [
    "# if elif else\n",
    "\n",
    "if userEmail in users:\n",
    "    print(\"user is Authorized !!!\")\n",
    "    # user will be allowed into application\n",
    "elif userEmail in oldUsers:\n",
    "    print(\"old user, he is Authorized !!!\")\n",
    "else:\n",
    "    print(\"user not found, please register\")\n",
    "    # user will be directed to registration page"
   ]
  },
  {
   "cell_type": "markdown",
   "id": "2164e295",
   "metadata": {},
   "source": [
    "## And, or operators"
   ]
  },
  {
   "cell_type": "code",
   "execution_count": 93,
   "id": "fe0a799d",
   "metadata": {},
   "outputs": [
    {
     "data": {
      "text/plain": [
       "True"
      ]
     },
     "execution_count": 93,
     "metadata": {},
     "output_type": "execute_result"
    }
   ],
   "source": [
    "True and True"
   ]
  },
  {
   "cell_type": "code",
   "execution_count": 94,
   "id": "9a5ef319",
   "metadata": {},
   "outputs": [
    {
     "data": {
      "text/plain": [
       "False"
      ]
     },
     "execution_count": 94,
     "metadata": {},
     "output_type": "execute_result"
    }
   ],
   "source": [
    "True and False"
   ]
  },
  {
   "cell_type": "code",
   "execution_count": 95,
   "id": "e107bab5",
   "metadata": {},
   "outputs": [
    {
     "name": "stdout",
     "output_type": "stream",
     "text": [
      "user is Authorized !!!\n"
     ]
    }
   ],
   "source": [
    "if userEmail in users or userEmail in oldUsers:\n",
    "    print(\"user is Authorized !!!\")\n",
    "    # user will be allowed into application\n",
    "else:\n",
    "    print(\"user not found, please register\")\n",
    "    # user will be directed to registration page"
   ]
  },
  {
   "cell_type": "markdown",
   "id": "4a62e1f6",
   "metadata": {},
   "source": [
    "## Loops"
   ]
  },
  {
   "cell_type": "code",
   "execution_count": 96,
   "id": "713b0435",
   "metadata": {},
   "outputs": [],
   "source": [
    "# for\n",
    "# while"
   ]
  },
  {
   "cell_type": "code",
   "execution_count": 104,
   "id": "48ec00e1",
   "metadata": {},
   "outputs": [
    {
     "name": "stdout",
     "output_type": "stream",
     "text": [
      "0\n",
      "1\n",
      "2\n",
      "3\n",
      "4\n",
      "5\n",
      "6\n",
      "7\n",
      "8\n",
      "9\n",
      "10\n",
      "12\n",
      "14\n",
      "16\n",
      "18\n"
     ]
    }
   ],
   "source": [
    "# for\n",
    "\n",
    "for i in range(10):\n",
    "    print(i)\n",
    "\n",
    "for i in range(10,20,2):\n",
    "    print(i)"
   ]
  },
  {
   "cell_type": "code",
   "execution_count": 111,
   "id": "94bf0fb6",
   "metadata": {},
   "outputs": [
    {
     "name": "stdout",
     "output_type": "stream",
     "text": [
      "Hello\n",
      "Hello\n",
      "Hello\n",
      "Hello\n",
      "Hello\n"
     ]
    }
   ],
   "source": [
    "# while\n",
    "switch = 1\n",
    "counter = 0\n",
    "while switch == 1:\n",
    "    if counter < 5:\n",
    "        print(\"Hello\")\n",
    "        counter = counter + 1\n",
    "    else:\n",
    "        switch = 0"
   ]
  },
  {
   "cell_type": "code",
   "execution_count": 118,
   "id": "3d02bed8",
   "metadata": {},
   "outputs": [
    {
     "name": "stdout",
     "output_type": "stream",
     "text": [
      "0\n",
      "2\n",
      "4\n",
      "5\n",
      "6\n",
      "8\n",
      "10\n",
      "12\n",
      "14\n",
      "15\n",
      "16\n",
      "18\n"
     ]
    }
   ],
   "source": [
    "# for with if\n",
    "\n",
    "for i in range(20):\n",
    "    if i%2 == 0:\n",
    "        print(i)\n",
    "    elif i%5 == 0:\n",
    "        print(i)"
   ]
  },
  {
   "cell_type": "markdown",
   "id": "548a3ef2",
   "metadata": {},
   "source": [
    "## functions"
   ]
  },
  {
   "cell_type": "code",
   "execution_count": 119,
   "id": "7459c3b9",
   "metadata": {},
   "outputs": [],
   "source": [
    "x = 10\n",
    "y = 20"
   ]
  },
  {
   "cell_type": "code",
   "execution_count": 120,
   "id": "e02c2a23",
   "metadata": {},
   "outputs": [
    {
     "data": {
      "text/plain": [
       "30"
      ]
     },
     "execution_count": 120,
     "metadata": {},
     "output_type": "execute_result"
    }
   ],
   "source": [
    "x+y"
   ]
  },
  {
   "cell_type": "code",
   "execution_count": 121,
   "id": "1f48e89c",
   "metadata": {},
   "outputs": [],
   "source": [
    "def sum_(a,b):\n",
    "    print(a+b)"
   ]
  },
  {
   "cell_type": "code",
   "execution_count": 124,
   "id": "b787ce77",
   "metadata": {},
   "outputs": [
    {
     "name": "stdout",
     "output_type": "stream",
     "text": [
      "3025\n"
     ]
    }
   ],
   "source": [
    "sum_(25,3000)"
   ]
  },
  {
   "cell_type": "code",
   "execution_count": 125,
   "id": "c317b921",
   "metadata": {},
   "outputs": [],
   "source": [
    "def greet():\n",
    "    print(\"Hello !!!\")"
   ]
  },
  {
   "cell_type": "code",
   "execution_count": 127,
   "id": "5c27b8db",
   "metadata": {},
   "outputs": [
    {
     "name": "stdout",
     "output_type": "stream",
     "text": [
      "Hello !!!\n"
     ]
    }
   ],
   "source": [
    "greet()"
   ]
  },
  {
   "cell_type": "code",
   "execution_count": 128,
   "id": "6cd4e0ff",
   "metadata": {},
   "outputs": [],
   "source": [
    "def greet(user):\n",
    "    print(\"Hello\",user)"
   ]
  },
  {
   "cell_type": "code",
   "execution_count": 129,
   "id": "44c2d6a3",
   "metadata": {},
   "outputs": [
    {
     "name": "stdout",
     "output_type": "stream",
     "text": [
      "Hello rana\n"
     ]
    }
   ],
   "source": [
    "greet(\"rana\")"
   ]
  },
  {
   "cell_type": "code",
   "execution_count": 130,
   "id": "ed3ae5e9",
   "metadata": {},
   "outputs": [],
   "source": [
    "def getEven(n):\n",
    "    for i in range(n):\n",
    "        if i%2 == 0:\n",
    "            print(i)"
   ]
  },
  {
   "cell_type": "code",
   "execution_count": 132,
   "id": "95c96520",
   "metadata": {},
   "outputs": [
    {
     "name": "stdout",
     "output_type": "stream",
     "text": [
      "0\n",
      "2\n",
      "4\n",
      "6\n",
      "8\n",
      "10\n",
      "12\n",
      "14\n",
      "16\n",
      "18\n",
      "20\n",
      "22\n",
      "24\n",
      "26\n",
      "28\n"
     ]
    }
   ],
   "source": [
    "getEven(30)"
   ]
  },
  {
   "cell_type": "markdown",
   "id": "9cf80caa",
   "metadata": {},
   "source": [
    "## Classes"
   ]
  },
  {
   "cell_type": "code",
   "execution_count": 157,
   "id": "90e4d93f",
   "metadata": {},
   "outputs": [],
   "source": [
    "class bank():\n",
    "    def __init__(self, name, age):\n",
    "        self.name = name\n",
    "        self.age = age\n",
    "        self.balance = 0\n",
    "    \n",
    "    def deposit(self, amount):\n",
    "        self.balance = self.balance + amount\n",
    "        print(\"You have deposited %s rupees, Thank you !!!\"%amount)\n",
    "        print(\"Your balance is %s\"%self.balance)\n",
    "    \n",
    "    def withdraw(self, amount):\n",
    "        self.balance = self.balance - amount\n",
    "        print(\"You have withdrawn %s rupees, Enjoy your day !!!\"%amount)\n",
    "        print(\"Your balance is %s\"%self.balance)\n",
    "    \n",
    "    def balanceEnquiry(self):\n",
    "        print(\"your Balance is %s\"%self.balance)"
   ]
  },
  {
   "cell_type": "code",
   "execution_count": 158,
   "id": "19437f97",
   "metadata": {},
   "outputs": [],
   "source": [
    "myAccount1 = bank(\"Manideep\",28)\n",
    "myAccount2 = bank(\"Shravani\",25)"
   ]
  },
  {
   "cell_type": "code",
   "execution_count": 159,
   "id": "0bfa8e02",
   "metadata": {},
   "outputs": [
    {
     "name": "stdout",
     "output_type": "stream",
     "text": [
      "You have deposited 500 rupees, Thank you !!!\n",
      "Your balance is 500\n"
     ]
    }
   ],
   "source": [
    "myAccount1.deposit(500)"
   ]
  },
  {
   "cell_type": "code",
   "execution_count": 160,
   "id": "33089bec",
   "metadata": {},
   "outputs": [
    {
     "name": "stdout",
     "output_type": "stream",
     "text": [
      "You have deposited 50000 rupees, Thank you !!!\n",
      "Your balance is 50500\n"
     ]
    }
   ],
   "source": [
    "myAccount1.deposit(50000)"
   ]
  },
  {
   "cell_type": "code",
   "execution_count": 161,
   "id": "b97f24b7",
   "metadata": {},
   "outputs": [
    {
     "name": "stdout",
     "output_type": "stream",
     "text": [
      "You have withdrawn 500 rupees, Enjoy your day !!!\n",
      "Your balance is 50000\n"
     ]
    }
   ],
   "source": [
    "myAccount1.withdraw(500)"
   ]
  },
  {
   "cell_type": "code",
   "execution_count": 162,
   "id": "d916dbcd",
   "metadata": {},
   "outputs": [
    {
     "name": "stdout",
     "output_type": "stream",
     "text": [
      "your Balance is 50000\n"
     ]
    }
   ],
   "source": [
    "myAccount1.balanceEnquiry()"
   ]
  },
  {
   "cell_type": "code",
   "execution_count": 163,
   "id": "87c2f8b7",
   "metadata": {},
   "outputs": [
    {
     "name": "stdout",
     "output_type": "stream",
     "text": [
      "You have withdrawn 5000 rupees, Enjoy your day !!!\n",
      "Your balance is 45000\n"
     ]
    }
   ],
   "source": [
    "myAccount1.withdraw(5000)"
   ]
  }
 ],
 "metadata": {
  "kernelspec": {
   "display_name": "Python 3 (ipykernel)",
   "language": "python",
   "name": "python3"
  },
  "language_info": {
   "codemirror_mode": {
    "name": "ipython",
    "version": 3
   },
   "file_extension": ".py",
   "mimetype": "text/x-python",
   "name": "python",
   "nbconvert_exporter": "python",
   "pygments_lexer": "ipython3",
   "version": "3.10.4"
  }
 },
 "nbformat": 4,
 "nbformat_minor": 5
}
